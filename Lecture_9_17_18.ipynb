{
 "cells": [
  {
   "cell_type": "markdown",
   "metadata": {},
   "source": [
    "# Lecture 9/17/18\n",
    "Functions"
   ]
  },
  {
   "cell_type": "markdown",
   "metadata": {},
   "source": [
    "### Single Parameter Functions"
   ]
  },
  {
   "cell_type": "code",
   "execution_count": 1,
   "metadata": {},
   "outputs": [
    {
     "name": "stdout",
     "output_type": "stream",
     "text": [
      "Pancakes, is the word you chose.\n"
     ]
    }
   ],
   "source": [
    "# Defining a Function to take one parameter, a word, and print it.\n",
    "\n",
    "def print_word_phrase(word):\n",
    "    \n",
    "    word_phrase = word + ', is the word you chose.'\n",
    "    \n",
    "    return word_phrase\n",
    "\n",
    "print(print_word_phrase('Pancakes'))"
   ]
  },
  {
   "cell_type": "markdown",
   "metadata": {},
   "source": [
    "### Multiple Parameter Functions"
   ]
  },
  {
   "cell_type": "code",
   "execution_count": 3,
   "metadata": {},
   "outputs": [
    {
     "data": {
      "text/plain": [
       "'Pancakes are great!'"
      ]
     },
     "execution_count": 3,
     "metadata": {},
     "output_type": "execute_result"
    }
   ],
   "source": [
    "def multi_word_phrase(word1, word2, word3):\n",
    "    \n",
    "    words = word1 + \" \" + word2 + \" \" + word3\n",
    "    \n",
    "    return words\n",
    "\n",
    "multi_word_phrase('Pancakes', 'are', 'great!')"
   ]
  },
  {
   "cell_type": "markdown",
   "metadata": {},
   "source": [
    "### Scope\n",
    "* Global - defined in the main body of a script\n",
    "* Local - defined inside a function\n",
    "* Built-in Scope - names in pre-defined built-ins module"
   ]
  },
  {
   "cell_type": "code",
   "execution_count": 15,
   "metadata": {},
   "outputs": [
    {
     "name": "stdout",
     "output_type": "stream",
     "text": [
      "27\n"
     ]
    },
    {
     "ename": "NameError",
     "evalue": "name 'cubed_value' is not defined",
     "output_type": "error",
     "traceback": [
      "\u001b[0;31m---------------------------------------------------------------------------\u001b[0m",
      "\u001b[0;31mNameError\u001b[0m                                 Traceback (most recent call last)",
      "\u001b[0;32m<ipython-input-15-364d064100b4>\u001b[0m in \u001b[0;36m<module>\u001b[0;34m()\u001b[0m\n\u001b[1;32m      8\u001b[0m \u001b[0;34m\u001b[0m\u001b[0m\n\u001b[1;32m      9\u001b[0m \u001b[0mprint\u001b[0m\u001b[0;34m(\u001b[0m\u001b[0mcube\u001b[0m\u001b[0;34m(\u001b[0m\u001b[0;36m3\u001b[0m\u001b[0;34m)\u001b[0m\u001b[0;34m)\u001b[0m\u001b[0;34m\u001b[0m\u001b[0m\n\u001b[0;32m---> 10\u001b[0;31m \u001b[0mprint\u001b[0m\u001b[0;34m(\u001b[0m\u001b[0mcubed_value\u001b[0m\u001b[0;34m)\u001b[0m \u001b[0;31m# This is only defined in the local scope of the\u001b[0m\u001b[0;34m\u001b[0m\u001b[0m\n\u001b[0m\u001b[1;32m     11\u001b[0m \u001b[0;31m# function \"cube\" thus it can't be used globally, which gives the error.\u001b[0m\u001b[0;34m\u001b[0m\u001b[0;34m\u001b[0m\u001b[0m\n",
      "\u001b[0;31mNameError\u001b[0m: name 'cubed_value' is not defined"
     ]
    }
   ],
   "source": [
    "x = 2\n",
    "\n",
    "def cube(value):\n",
    "    \n",
    "    cubed_value = value**3\n",
    "    \n",
    "    return cubed_value\n",
    "\n",
    "print(cube(3))\n",
    "print(cubed_value) # This is only defined in the local scope of the\n",
    "# function \"cube\" thus it can't be used globally, which gives the error."
   ]
  },
  {
   "cell_type": "markdown",
   "metadata": {},
   "source": [
    "## Python first searches the local scope and ONLY if it cannot find the variable locally, it will search Globally.\n",
    "* More specifically it will search local scope, enclosing functions, global, and built-in."
   ]
  },
  {
   "cell_type": "code",
   "execution_count": 16,
   "metadata": {},
   "outputs": [
    {
     "name": "stdout",
     "output_type": "stream",
     "text": [
      "1000\n",
      "8000\n"
     ]
    }
   ],
   "source": [
    "# Global Variable\n",
    "new_val = 10\n",
    "\n",
    "def cube(value): # Notice \"value\" parameter isn't even used.\n",
    "    \n",
    "    new_value2 = new_val**3\n",
    "    \n",
    "    return new_value2\n",
    "\n",
    "print(cube(3))\n",
    "# Clearly the cube of 3 is not 100, why did this happen? Because the \n",
    "# new_val didn't appear in the local scope of the function so Python\n",
    "# went to find it in the global scope.\n",
    "\n",
    "new_val = 20 # Notice I redefined new_val later so that's what Python reads.\n",
    "print(cube(new_val))"
   ]
  },
  {
   "cell_type": "markdown",
   "metadata": {},
   "source": [
    "### Nested Functions"
   ]
  },
  {
   "cell_type": "code",
   "execution_count": 13,
   "metadata": {},
   "outputs": [
    {
     "data": {
      "text/plain": [
       "(1, 4, 9)"
      ]
     },
     "execution_count": 13,
     "metadata": {},
     "output_type": "execute_result"
    }
   ],
   "source": [
    "def square_multiple_values(x1, x2, x3):\n",
    "    \n",
    "    def inner(x):\n",
    "        \n",
    "        return x ** 2\n",
    "    \n",
    "    return (inner(x1), inner(x2), inner(x3))\n",
    "\n",
    "square_multiple_values(1, 2, 3)"
   ]
  },
  {
   "cell_type": "code",
   "execution_count": 18,
   "metadata": {},
   "outputs": [
    {
     "name": "stdout",
     "output_type": "stream",
     "text": [
      "4 8\n"
     ]
    }
   ],
   "source": [
    "def raise_power(n):\n",
    "    \n",
    "    def inner(x):\n",
    "        raised = x ** n\n",
    "        return raised\n",
    "    \n",
    "    return inner\n",
    "\n",
    "square = raise_power(2)\n",
    "cube = raise_power(3)\n",
    "\n",
    "print(square(2), cube(2))"
   ]
  },
  {
   "cell_type": "code",
   "execution_count": null,
   "metadata": {
    "collapsed": true
   },
   "outputs": [],
   "source": []
  }
 ],
 "metadata": {
  "kernelspec": {
   "display_name": "Python 3",
   "language": "python",
   "name": "python3"
  },
  "language_info": {
   "codemirror_mode": {
    "name": "ipython",
    "version": 3
   },
   "file_extension": ".py",
   "mimetype": "text/x-python",
   "name": "python",
   "nbconvert_exporter": "python",
   "pygments_lexer": "ipython3",
   "version": "3.6.4"
  }
 },
 "nbformat": 4,
 "nbformat_minor": 2
}
