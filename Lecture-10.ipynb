{
 "cells": [
  {
   "cell_type": "markdown",
   "metadata": {},
   "source": [
    "# Lecture_10_17_18\n",
    "Statistical Thinking in Python II (Hypothesis Testing)"
   ]
  },
  {
   "cell_type": "markdown",
   "metadata": {},
   "source": [
    "### Permutation Sampling\n",
    "* Permutation sampling is used to see if two rows of data are identical in distribution by calculating and comparing their ECDF's. Basically, you take 2 original samples, mix the data together, then resample randomly to get 2 new simulated samples. You do this many times and then determine if it's plausible, based on the ECDF's, that the populations are from the same distribution."
   ]
  },
  {
   "cell_type": "code",
   "execution_count": 1,
   "metadata": {
    "collapsed": true
   },
   "outputs": [],
   "source": [
    "import pandas as pd\n",
    "import numpy as np\n",
    "import matplotlib.pyplot as plt"
   ]
  },
  {
   "cell_type": "markdown",
   "metadata": {},
   "source": [
    "### Example Data"
   ]
  },
  {
   "cell_type": "code",
   "execution_count": 47,
   "metadata": {},
   "outputs": [
    {
     "data": {
      "text/html": [
       "<div>\n",
       "<style scoped>\n",
       "    .dataframe tbody tr th:only-of-type {\n",
       "        vertical-align: middle;\n",
       "    }\n",
       "\n",
       "    .dataframe tbody tr th {\n",
       "        vertical-align: top;\n",
       "    }\n",
       "\n",
       "    .dataframe thead th {\n",
       "        text-align: right;\n",
       "    }\n",
       "</style>\n",
       "<table border=\"1\" class=\"dataframe\">\n",
       "  <thead>\n",
       "    <tr style=\"text-align: right;\">\n",
       "      <th></th>\n",
       "      <th>x</th>\n",
       "      <th>y</th>\n",
       "    </tr>\n",
       "  </thead>\n",
       "  <tbody>\n",
       "    <tr>\n",
       "      <th>0</th>\n",
       "      <td>9.5</td>\n",
       "      <td>1.769</td>\n",
       "    </tr>\n",
       "    <tr>\n",
       "      <th>1</th>\n",
       "      <td>49.2</td>\n",
       "      <td>2.682</td>\n",
       "    </tr>\n",
       "    <tr>\n",
       "      <th>2</th>\n",
       "      <td>1.0</td>\n",
       "      <td>2.077</td>\n",
       "    </tr>\n",
       "    <tr>\n",
       "      <th>3</th>\n",
       "      <td>11.2</td>\n",
       "      <td>2.132</td>\n",
       "    </tr>\n",
       "    <tr>\n",
       "      <th>4</th>\n",
       "      <td>9.8</td>\n",
       "      <td>1.827</td>\n",
       "    </tr>\n",
       "  </tbody>\n",
       "</table>\n",
       "</div>"
      ],
      "text/plain": [
       "      x      y\n",
       "0   9.5  1.769\n",
       "1  49.2  2.682\n",
       "2   1.0  2.077\n",
       "3  11.2  2.132\n",
       "4   9.8  1.827"
      ]
     },
     "execution_count": 47,
     "metadata": {},
     "output_type": "execute_result"
    }
   ],
   "source": [
    "df = pd.read_csv('/Users/kevin/Dropbox/Github/Classes/IS_485_685/Data_&_Pictures/simple_df.csv', index_col=0)\n",
    "df.head()"
   ]
  },
  {
   "cell_type": "markdown",
   "metadata": {},
   "source": [
    "### Permutation sampling to simulate a Null Hypothesis\n",
    "* Null Hypothesis: The two sets of data have the same distribution.\n",
    "* Alternative Hypothesis: The two sets of data do not have the same distribution."
   ]
  },
  {
   "cell_type": "code",
   "execution_count": 8,
   "metadata": {
    "collapsed": true
   },
   "outputs": [],
   "source": [
    "# ECDF function used from the last few lectures\n",
    "# Just run to have active\n",
    "def ecdf(data):\n",
    "    \"\"\"Compute ECDF for a one-dimensional array of measurements.\"\"\"\n",
    "\n",
    "    # Number of data points: n\n",
    "    n = len(data)\n",
    "\n",
    "    # x-data for the ECDF: x\n",
    "    x = np.sort(data)\n",
    "\n",
    "    # y-data for the ECDF: y\n",
    "    y = np.arange(1, n+1) / n\n",
    "\n",
    "    return x, y"
   ]
  },
  {
   "cell_type": "code",
   "execution_count": 9,
   "metadata": {
    "collapsed": true
   },
   "outputs": [],
   "source": [
    "# Just a function for the permutation sample\n",
    "def permutation_sample(data1, data2):\n",
    "    \"\"\"Generate a permutation sample from two data sets.\"\"\"\n",
    "\n",
    "    # Concatenate the data sets: data\n",
    "    data = np.concatenate((data1,data2))\n",
    "\n",
    "    # Permute the concatenated array: permuted_data\n",
    "    permuted_data = np.random.permutation(data)\n",
    "\n",
    "    # Split the permuted array into two: perm_sample_1, perm_sample_2\n",
    "    perm_sample_1 = permuted_data[:len(data1)]\n",
    "    perm_sample_2 = permuted_data[len(data1):]\n",
    "\n",
    "    return perm_sample_1, perm_sample_2"
   ]
  },
  {
   "cell_type": "code",
   "execution_count": 15,
   "metadata": {},
   "outputs": [
    {
     "data": {
      "image/png": "[encoded data removed]",
      "text/plain": [
       "<Figure size 432x288 with 1 Axes>"
      ]
     },
     "metadata": {},
     "output_type": "display_data"
    }
   ],
   "source": [
    "# Pulling out columns into variables\n",
    "x = df['x']\n",
    "y = df['y']\n",
    "\n",
    "# Run 50 permutation samples FROM original data\n",
    "for _ in range(50):\n",
    "    \n",
    "    # Generate permutation samples\n",
    "    perm_sample_1, perm_sample_2 = permutation_sample(x, y)\n",
    "\n",
    "    # Compute ECDFs\n",
    "    x_1, y_1 = ecdf(perm_sample_1)\n",
    "    x_2, y_2 = ecdf(perm_sample_2)\n",
    "\n",
    "    # Plot ECDFs of permutation sample\n",
    "    _ = plt.plot(x_1, y_1, marker='.', linestyle='none',\n",
    "                 color='red', alpha=0.02)\n",
    "    _ = plt.plot(x_2, y_2, marker='.', linestyle='none',\n",
    "                 color='blue', alpha=0.02)\n",
    "\n",
    "#######\n",
    "# Create and plot ECDFs from original data\n",
    "#######\n",
    "x_1, y_1 = ecdf(x)\n",
    "x_2, y_2 = ecdf(y)\n",
    "_ = plt.plot(x_1, y_1, marker='.', linestyle='none', color='red')\n",
    "_ = plt.plot(x_2, y_2, marker='.', linestyle='none', color='blue')\n",
    "\n",
    "# Label axes, set margin, and show plot\n",
    "plt.margins(0.02)\n",
    "_ = plt.xlabel('monthly rainfall (mm)')\n",
    "_ = plt.ylabel('ECDF')\n",
    "plt.show()"
   ]
  },
  {
   "cell_type": "markdown",
   "metadata": {},
   "source": [
    "### Conclusion from graph\n",
    "Naturally, if two datasets were from the same distribution they would overlap or at least come very close. The permutation samples (the faded red/blue lines) would likely overlap with the original bolded red and blue lines. As we can see this is clearly not the case, so we can reason they are not from the same distribution."
   ]
  },
  {
   "cell_type": "markdown",
   "metadata": {},
   "source": [
    "### Testing A Null Hypothesis\n",
    "* Notice above I could not conclusively accept or reject the null hypothesis. Intuitively from the graph we have a very strong sense that they're not the same, but we need a metric to conclude this finding. This is where creating a test statistic and analyzing a p-value comes in.\n",
    "* A Test Statistic is usually a difference of any statistic you care about. Often it's the mean of the first set of data minus the mean of the second set of data.\n",
    "* A p-value is the probability of observing a test statistic equally or more extreme than the one you observed, given that the null hypothesis is true."
   ]
  },
  {
   "cell_type": "code",
   "execution_count": 11,
   "metadata": {
    "collapsed": true
   },
   "outputs": [],
   "source": [
    "# This function allows me to create permutation replicates on the two columns of interest and storing\n",
    "# all the test statistics for evaluation in a p-value test. Notice \"func\" can be ANY statistic you desire.\n",
    "def draw_perm_reps(data_1, data_2, func, size=1):\n",
    "    \"\"\"Generate multiple permutation replicates.\"\"\"\n",
    "\n",
    "    # Initialize array of replicates: perm_replicates\n",
    "    perm_replicates = np.empty(size)\n",
    "\n",
    "    for i in range(size):\n",
    "        # Generate permutation sample\n",
    "        perm_sample_1, perm_sample_2 = permutation_sample(data_1,data_2)\n",
    "\n",
    "        # Compute the test statistic\n",
    "        perm_replicates[i] = func(perm_sample_1,perm_sample_2)\n",
    "\n",
    "    return perm_replicates"
   ]
  },
  {
   "cell_type": "code",
   "execution_count": 46,
   "metadata": {},
   "outputs": [
    {
     "name": "stdout",
     "output_type": "stream",
     "text": [
      "The mean difference from original data is: 17.01391975308642\n",
      "List showing if each permutation replicate is greater than or equal to the original difference of means: [False False False ... False False False]\n",
      "p-val = 0.000000\n"
     ]
    }
   ],
   "source": [
    "# Difference of means function that will be used as the \"func\" parameter in the above function.\n",
    "# This means my test statistic is a DIFFERENCE OF MEANS.\n",
    "def diff_of_means(data_1, data_2):\n",
    "    \"\"\"Difference in means of two arrays.\"\"\"\n",
    "\n",
    "    # The difference of means of data_1, data_2: diff\n",
    "    diff = np.mean(data_1) - np.mean(data_2)\n",
    "\n",
    "    return diff\n",
    "\n",
    "\n",
    "\n",
    "\n",
    "# Compute difference of means from the original x and y columns\n",
    "empirical_diff_means = diff_of_means(x, y)\n",
    "print('The mean difference from original data is: {}'.format(empirical_diff_means))\n",
    "\n",
    "# Draw 10,000 permutation replicates: perm_replicates.\n",
    "# This is creating the simulated x and y difference of means.\n",
    "perm_replicates = draw_perm_reps(x, y, diff_of_means, size=10000)\n",
    "\n",
    "# Compute p-value: p\n",
    "# This is computing the p-value relative to the permutation replicates against the original data.\n",
    "show_list = perm_replicates >= empirical_diff_means\n",
    "print('List showing if each permutation replicate is greater than or equal to the original difference of means: {}'.format(show_list))\n",
    "\n",
    "p = np.sum(perm_replicates >= empirical_diff_means) / len(perm_replicates)\n",
    "\n",
    "# Print the result\n",
    "print('p-val = {0:.6f}'.format(p))"
   ]
  },
  {
   "cell_type": "markdown",
   "metadata": {},
   "source": [
    "### Conclusion\n",
    "Now that we have created a test statistic, and tested it using permutation replicates in order to obtain a p-value, we can draw conclusions. Usually we test against a level of \"alpha\" (just common terminology) of 0.05. This means that if our p-value is less than 0.05 we can say it's statistically significant. Here, Python has said our p-value is essentially 0, thus we can formally reject our null hypothesis that the data comes from the same distribution in favor of the alternative hypothesis."
   ]
  },
  {
   "cell_type": "markdown",
   "metadata": {},
   "source": [
    "## A/B Testing\n",
    "* The premise of A/B testing is to use hypothesis testing to see if a change in strategy resulted in a statistically significant difference. There are many examples, but the most common is wanting to see if changing a website results in more traffic to the website in a before and after scenario.\n",
    "* Null Hypothesis: Change in strategy is no different.\n",
    "* Alternative Hypthesis: Change in strategy is different."
   ]
  },
  {
   "cell_type": "code",
   "execution_count": 48,
   "metadata": {},
   "outputs": [],
   "source": [
    "# Creating 2 datasets A & B to test to see if they're statistically different after a change in strategy\n",
    "# A is before the new strategy.\n",
    "# B is after the new strategy.\n",
    "A = pd.read_csv('/Users/kevin/Dropbox/Github/Classes/IS_485_685/Data_&_Pictures/A_B_1.csv', index_col = 0)\n",
    "B = pd.read_csv('/Users/kevin/Dropbox/Github/Classes/IS_485_685/Data_&_Pictures/A_B_2.csv', index_col = 0)"
   ]
  },
  {
   "cell_type": "code",
   "execution_count": 49,
   "metadata": {},
   "outputs": [
    {
     "name": "stdout",
     "output_type": "stream",
     "text": [
      "-345.0011367942402\n",
      "p-val = 0.000100\n"
     ]
    }
   ],
   "source": [
    "# Compute the observed difference in mean between dataset A and dataset B\n",
    "A_B_diff_means = diff_of_means(A['data_1'], B['data_2'])\n",
    "print(A_B_diff_means)\n",
    "\n",
    "# Acquire 10,000 permutation replicates of difference in mean from before and after strategy: perm_replicates\n",
    "perm_replicates = draw_perm_reps(A, B, diff_of_means, size=10000)\n",
    "\n",
    "\n",
    "# Compute and print the p-value: p\n",
    "p = np.sum(perm_replicates <= A_B_diff_means)/ len(perm_replicates)\n",
    "print('p-val = {0:.6f}'.format(p))\n",
    "#'{0:.2f}'.format(pi)"
   ]
  },
  {
   "cell_type": "markdown",
   "metadata": {},
   "source": [
    "### Conclusion\n",
    "From our p-value we can reject the null hypothesis in favor of the alternative hypothesis. This is a definitive measure that says a change in strategy (whatever it was) did lead to a significant change."
   ]
  },
  {
   "cell_type": "code",
   "execution_count": null,
   "metadata": {
    "collapsed": true
   },
   "outputs": [],
   "source": []
  }
 ],
 "metadata": {
  "kernelspec": {
   "display_name": "Python 3",
   "language": "python",
   "name": "python3"
  },
  "language_info": {
   "codemirror_mode": {
    "name": "ipython",
    "version": 3
   },
   "file_extension": ".py",
   "mimetype": "text/x-python",
   "name": "python",
   "nbconvert_exporter": "python",
   "pygments_lexer": "ipython3",
   "version": "3.6.4"
  }
 },
 "nbformat": 4,
 "nbformat_minor": 2
}
