{
 "cells": [
  {
   "cell_type": "markdown",
   "metadata": {},
   "source": [
    "# Exam 2 Review & Answers"
   ]
  },
  {
   "cell_type": "raw",
   "metadata": {},
   "source": [
    "1)  Basic Functions\n",
    "SCRIPT \n",
    "\n",
    "def ______\n",
    "\n",
    "    \"\"\"Prints Hello World!\"\"\"\n",
    "    print('Hello World!')\n",
    "say_hello()\n",
    "\n",
    "   A) hello()\n",
    " **B) say_hello():**\n",
    "   C) say_hello()\n",
    "   D) Hello_World():"
   ]
  },
  {
   "cell_type": "code",
   "execution_count": 3,
   "metadata": {},
   "outputs": [
    {
     "name": "stdout",
     "output_type": "stream",
     "text": [
      "Hello World!\n"
     ]
    }
   ],
   "source": [
    "def say_hello():\n",
    "    print('Hello World!')\n",
    "say_hello()\n"
   ]
  },
  {
   "cell_type": "raw",
   "metadata": {},
   "source": [
    "2) Lambda Functions\n",
    "\n",
    "add_squares = (lambda x, y: x**2 + y**2)\n",
    "print(add_squares(3, 4))\n",
    "\n",
    "  A) 35\n",
    "  B) 20\n",
    "**C) 25 **\n",
    "  D) 9"
   ]
  },
  {
   "cell_type": "code",
   "execution_count": 5,
   "metadata": {},
   "outputs": [
    {
     "name": "stdout",
     "output_type": "stream",
     "text": [
      "25\n"
     ]
    }
   ],
   "source": [
    "add_squares = (lambda x,y: x**2 + y**2)\n",
    "print(add_squares(3,4))"
   ]
  },
  {
   "cell_type": "raw",
   "metadata": {},
   "source": [
    "3) Indexing with Lambdas\n",
    "\n",
    "[[(n, m) for m in range(1, 2)] for n in range(7, 9)]\n",
    "\n",
    "**A) [[(7, 1)], [(8, 1)]]**\n",
    "  B) [[(7, 1)], [(8, 1)], [(9, 1)], [(10, 1)]]\n",
    "  C) [[(1, 7)], [(1, 8)], [(1, 9)], [(1, 10)]]\n",
    "  D) None of the Above."
   ]
  },
  {
   "cell_type": "code",
   "execution_count": 6,
   "metadata": {},
   "outputs": [
    {
     "data": {
      "text/plain": [
       "[[(7, 1)], [(8, 1)]]"
      ]
     },
     "execution_count": 6,
     "metadata": {},
     "output_type": "execute_result"
    }
   ],
   "source": [
    "[[(n, m) for m in range(1, 2)] for n in range(7, 9)]"
   ]
  },
  {
   "cell_type": "raw",
   "metadata": {},
   "source": [
    "4)\n",
    "\n",
    "Which of the following statements is true regarding a generator?\n",
    "  A) It constructs a list and stores it in memory.\n",
    "  B) It constructs a list but does not store it in memory.\n",
    "  C) It constructs a tuple and stores it in memory.\n",
    "**D) It does not construct a list.**"
   ]
  },
  {
   "cell_type": "raw",
   "metadata": {},
   "source": [
    "5)\n",
    "\n",
    "### Import the csv file located at the url \"link_to_df\" in small dataframe chunks of size 5 ###\n",
    "\n",
    "import pandas as pd\n",
    "link_to_df = 'https://goo.gl/BznzCb'\n",
    "df_chunks = pd.read_csv(link_to_df, _______)\n",
    "print(next(df_chunks))\n",
    "\n",
    "**A) chunksize = 5**\n",
    "  B) size = 5\n",
    "  C) width = 5\n",
    "  D) numsize = 5"
   ]
  },
  {
   "cell_type": "raw",
   "metadata": {},
   "source": [
    "6) \n",
    "A List comprehension is faster than an analogous for loop in Python.\n",
    "\n",
    "**A) True.**\n",
    "  B) False."
   ]
  },
  {
   "cell_type": "raw",
   "metadata": {},
   "source": [
    "7)\n",
    "What does the following return?\n",
    "\n",
    "result = [x**2 for x in range(5) if x % 2 == 0]\n",
    "print(result)\n",
    "\n",
    "  A) [0, 4, 16]\n",
    "**B) [0, 1, 2, 3, 4]**\n",
    "  C) [0, 2, 4]\n",
    "  D) [0, 1, 4, 9, 16]"
   ]
  },
  {
   "cell_type": "code",
   "execution_count": 7,
   "metadata": {},
   "outputs": [
    {
     "name": "stdout",
     "output_type": "stream",
     "text": [
      "[0, 4, 16]\n"
     ]
    }
   ],
   "source": [
    "result = [x**2 for x in range(5) if x % 2 == 0]\n",
    "print(result)"
   ]
  },
  {
   "cell_type": "raw",
   "metadata": {},
   "source": [
    "8)\n",
    "What does the following return?\n",
    "\n",
    "gen = (num for num in range(10))\n",
    "print(next(gen))\n",
    "\n",
    "  A) 10\n",
    "**B) 0**\n",
    "  C) 1\n",
    "  D) 2"
   ]
  },
  {
   "cell_type": "code",
   "execution_count": 9,
   "metadata": {},
   "outputs": [
    {
     "name": "stdout",
     "output_type": "stream",
     "text": [
      "0\n"
     ]
    }
   ],
   "source": [
    "gen = (num for num in range(10))\n",
    "print(next(gen))"
   ]
  },
  {
   "cell_type": "markdown",
   "metadata": {},
   "source": [
    "## Free Response"
   ]
  },
  {
   "cell_type": "raw",
   "metadata": {},
   "source": [
    "1)\n",
    "What is the difference between *args and **kwargs?\n",
    "*args = flexible arguements where the function can take any input provided the function has routines to handle the arguements\n",
    "\n",
    "def add_all(*args):\n",
    "    sum_all = 0\n",
    "    for num in args:\n",
    "        sum_all += num\n",
    "    return sum_all\n",
    "\n",
    "add_all(1,2)\n",
    "3\n",
    "\n",
    "**Kwargs = is a flexible arguement with expected keyword value pairs expected. \n",
    "\n",
    "def print_all(**kwargs):\n",
    "    for key, value in kwarg.items():\n",
    "        print(key + \": \" + value)\n",
    "\n",
    "print_all(name='dumbledore\", job=\"headmaster\")\n",
    "job: headmaster\n",
    "name: dumbledore"
   ]
  },
  {
   "cell_type": "markdown",
   "metadata": {},
   "source": [
    "\n",
    "2)\n",
    "What does the following print?\n",
    "\n",
    "a_list = [1,10,20]\n",
    "result = map(lambda x: x + 5, a_list)\n",
    "print(list(result))"
   ]
  },
  {
   "cell_type": "code",
   "execution_count": 10,
   "metadata": {},
   "outputs": [
    {
     "name": "stdout",
     "output_type": "stream",
     "text": [
      "[6, 15, 25]\n"
     ]
    }
   ],
   "source": [
    "a_list = [1,10,20]\n",
    "result = map(lambda x: x + 5, a_list)\n",
    "print(list(result))"
   ]
  },
  {
   "cell_type": "raw",
   "metadata": {},
   "source": [
    "3) \n",
    "What is an ECDF? Why is it unique?\n",
    "ECDF is obtained from actual data. \"Empircal\" meaning \"by observation rather than theory\" where you use observations to determine the distribution function. "
   ]
  },
  {
   "cell_type": "raw",
   "metadata": {},
   "source": [
    "\n",
    "5)\n",
    "You know the mean number of spam emails you get in a week is about 30. What is the probability that you you get 35 spam emails in a week?"
   ]
  },
  {
   "cell_type": "markdown",
   "metadata": {},
   "source": [
    "Question 5 is an example of Poisson Distributions\n",
    "$P\\left( k \\right) = \\frac{{e^{ - \\lambda } \\lambda ^k }}{{k!}}$\n",
    "\n",
    "Where $\\lambda$ is the mean."
   ]
  },
  {
   "cell_type": "markdown",
   "metadata": {},
   "source": [
    "Solution: $P\\left( 35 \\right) = \\frac{{e^{ - 30 } 30 ^{35} }}{{35!}} = .0453 = 4.53 percent $"
   ]
  },
  {
   "cell_type": "raw",
   "metadata": {},
   "source": [
    "6)\n",
    "You flip a coin 10 times. What is the probability that you get exactly 6 heads?"
   ]
  },
  {
   "cell_type": "markdown",
   "metadata": {},
   "source": [
    "Question 6 is an example of Binomial Trials\n",
    "\n",
    "Binomial Distribution = $\\binom{n}{k}p^{k}(1-p)^{n-k}$\n",
    "\n",
    "Where $\\frac{n!}{k!(n-k)!} = \\binom{n}{k}$\n",
    "\n",
    "A Binomial test is a set of \"n\" bernoulli trials. Where, finding the probability that 10 coin flips give 6 heads.<p>\n",
    "\n",
    "Solution: We would plug in 10 for n, 6 for k, and .5 for p. $\\binom{10}{6}.5^{6}(1-.5)^{10-6} = .0009765 = 0.0977  percent $"
   ]
  },
  {
   "cell_type": "raw",
   "metadata": {},
   "source": [
    "7)\n",
    "What is bootstrapping? Why is it useful?\n",
    "\n",
    "Bootstrapping is the idea of resampling with replacement on the data we already have. We do this to simulate different combinations of means, medians, standard deviations, and other summary statistics."
   ]
  }
 ],
 "metadata": {
  "kernelspec": {
   "display_name": "Python 3",
   "language": "python",
   "name": "python3"
  },
  "language_info": {
   "codemirror_mode": {
    "name": "ipython",
    "version": 3
   },
   "file_extension": ".py",
   "mimetype": "text/x-python",
   "name": "python",
   "nbconvert_exporter": "python",
   "pygments_lexer": "ipython3",
   "version": "3.6.5"
  }
 },
 "nbformat": 4,
 "nbformat_minor": 2
}
