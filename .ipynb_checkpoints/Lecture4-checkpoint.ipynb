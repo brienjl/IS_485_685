{
 "cells": [
  {
   "cell_type": "markdown",
   "metadata": {},
   "source": [
    "# Lecture 10/01/18"
   ]
  },
  {
   "cell_type": "markdown",
   "metadata": {},
   "source": [
    "### Continuation from functions, nested functions, and parameter specifics"
   ]
  },
  {
   "cell_type": "markdown",
   "metadata": {},
   "source": [
    "## Flexible Arguments\n",
    "* Passing Multiple arguments at once"
   ]
  },
  {
   "cell_type": "markdown",
   "metadata": {},
   "source": [
    "### Using args as parameter\n",
    "*Args comes in as a TUPLE"
   ]
  },
  {
   "cell_type": "code",
   "execution_count": 3,
   "metadata": {},
   "outputs": [
    {
     "data": {
      "text/plain": [
       "', first_word, second_word, etc...'"
      ]
     },
     "execution_count": 3,
     "metadata": {},
     "output_type": "execute_result"
    }
   ],
   "source": [
    "def bunch_of_words(*args): # *args lets Python know you're planning to put in a currently undefined amount of arguments\n",
    "    \n",
    "    some_string = '' # This defines an empty string\n",
    "    \n",
    "    for word in args:\n",
    "        some_string += ', '+ word\n",
    "    \n",
    "    return some_string\n",
    "\n",
    "bunch_of_words('first_word', 'second_word', 'etc...')"
   ]
  },
  {
   "cell_type": "markdown",
   "metadata": {},
   "source": [
    "### Using kwargs as parameter\n",
    "*kwargs comes in as a DICTIONARY"
   ]
  },
  {
   "cell_type": "code",
   "execution_count": 9,
   "metadata": {},
   "outputs": [
    {
     "name": "stdout",
     "output_type": "stream",
     "text": [
      "breakfast: PB&J\n",
      "lunch: protein shake/sandwich\n",
      "dinner: something unhealthy\n",
      "DONE\n",
      "breakfast: PB&J\n",
      "brunch: veggies\n",
      "lunch: protein shake/sandwich\n",
      "dinner: something unhealthy\n",
      "fourth_meal: That In N Out GAME SON!\n",
      "DONE\n"
     ]
    }
   ],
   "source": [
    "def bunch_of_keyword_arguments(**kwargs):\n",
    "    \n",
    "    for key, value in kwargs.items():\n",
    "        print(key + \": \" + value)\n",
    "        \n",
    "    print('DONE')\n",
    "    \n",
    "bunch_of_keyword_arguments(breakfast='PB&J', lunch='protein shake/sandwich', dinner='something unhealthy')\n",
    "bunch_of_keyword_arguments(breakfast='PB&J', brunch='veggies', lunch='protein shake/sandwich', dinner='something unhealthy',\n",
    "                          fourth_meal='That In N Out GAME SON!')"
   ]
  },
  {
   "cell_type": "markdown",
   "metadata": {},
   "source": [
    "## Lambda Functions\n",
    "* Using lambda and map fucntion"
   ]
  },
  {
   "cell_type": "code",
   "execution_count": 33,
   "metadata": {},
   "outputs": [
    {
     "name": "stdout",
     "output_type": "stream",
     "text": [
      "9\n",
      "Result 1: <map object at 0x111a8b160>\n",
      "New Result 1: [55, 60, 65]\n",
      "Result 2: [55, 60, 65]\n",
      "Better Result 2: [55, 60, 65]\n"
     ]
    }
   ],
   "source": [
    "# Basic Example\n",
    "result = lambda x: x + 5\n",
    "print(result(4))\n",
    "\n",
    "\n",
    "# Using Map with lambdas\n",
    "some_list = [5,10,15]\n",
    "\n",
    "result1 = map(lambda x: x + 50, some_list)\n",
    "print('Result 1: ' + str(result1)) # Notice this returns a Map Object, must convert to list before printing\n",
    "new_result1 = list(result1)\n",
    "print('New Result 1: {}'.format(new_result1))\n",
    "\n",
    "\n",
    "# Lambda with list comprehension (won't cover list comprehensions until Toolbox II, but is cool to see in advance)\n",
    "result2 = [(lambda x: x + 50)(x) for x in some_list]\n",
    "print('Result 2: {}'.format(result2))\n",
    "\n",
    "\n",
    "# Even easier than above\n",
    "better_result2 = [x+50 for x in some_list]\n",
    "print('Better Result 2: {}'.format(better_result2))"
   ]
  },
  {
   "cell_type": "markdown",
   "metadata": {},
   "source": [
    "### Using Filter with Lambda Functions"
   ]
  },
  {
   "cell_type": "code",
   "execution_count": 28,
   "metadata": {},
   "outputs": [
    {
     "name": "stdout",
     "output_type": "stream",
     "text": [
      "<filter object at 0x111a23a20>\n",
      "New Filtered Results: [20, 25]\n",
      "[20, 25]\n"
     ]
    }
   ],
   "source": [
    "some_list = [5, 10, 15, 20, 25]\n",
    "\n",
    "# Filter Results in a list using a lambda function\n",
    "filtered_results = filter(lambda x: x > 15, some_list)\n",
    "print(filtered_results)\n",
    "new_filtered_results = list(filtered_results)\n",
    "print('New Filtered Results: {}'.format(new_filtered_results))\n",
    "\n",
    "# Same code as above, only quicker and easier to understand using list comprehensions\n",
    "filtered = [x for x in some_list if x > 15]\n",
    "print(filtered)"
   ]
  },
  {
   "cell_type": "markdown",
   "metadata": {},
   "source": [
    "### Using Reduce function with Lambdas"
   ]
  },
  {
   "cell_type": "code",
   "execution_count": 29,
   "metadata": {},
   "outputs": [
    {
     "data": {
      "text/plain": [
       "113"
      ]
     },
     "execution_count": 29,
     "metadata": {},
     "output_type": "execute_result"
    }
   ],
   "source": [
    "from functools import reduce\n",
    "\n",
    "another_result = reduce(lambda x,y: x+y, [47,11,42,13])\n",
    "another_result"
   ]
  },
  {
   "cell_type": "markdown",
   "metadata": {},
   "source": [
    "## Minor introduction to error handling"
   ]
  },
  {
   "cell_type": "code",
   "execution_count": 34,
   "metadata": {},
   "outputs": [
    {
     "name": "stdout",
     "output_type": "stream",
     "text": [
      "word1 must be a string and echo must be an integer.\n",
      "\n",
      "particleparticle!!!\n"
     ]
    }
   ],
   "source": [
    "# Define shout_echo\n",
    "def shout_echo(word1, echo=1):\n",
    "    \"\"\"Concatenate echo copies of word1 and three\n",
    "    exclamation marks at the end of the string.\"\"\"\n",
    "\n",
    "    # Initialize empty strings: echo_word, shout_words\n",
    "    echo_word=''\n",
    "    shout_words=''\n",
    "    \n",
    "\n",
    "    # Add exception handling with try-except\n",
    "    try:\n",
    "        # Concatenate echo copies of word1 using *: echo_word\n",
    "        echo_word = word1*echo\n",
    "\n",
    "        # Concatenate '!!!' to echo_word: shout_words\n",
    "        shout_words = echo_word+'!!!'\n",
    "        \n",
    "    except:\n",
    "        # Print error message\n",
    "        print(\"word1 must be a string and echo must be an integer.\")\n",
    "\n",
    "    # Return shout_words\n",
    "    return shout_words\n",
    "\n",
    "# Two Calls to shout_echo\n",
    "print(shout_echo(\"particle\", echo=\"accelerator\"))\n",
    "print(shout_echo('particle', echo = 2))"
   ]
  },
  {
   "cell_type": "code",
   "execution_count": null,
   "metadata": {
    "collapsed": true
   },
   "outputs": [],
   "source": []
  }
 ],
 "metadata": {
  "kernelspec": {
   "display_name": "Python 3",
   "language": "python",
   "name": "python3"
  },
  "language_info": {
   "codemirror_mode": {
    "name": "ipython",
    "version": 3
   },
   "file_extension": ".py",
   "mimetype": "text/x-python",
   "name": "python",
   "nbconvert_exporter": "python",
   "pygments_lexer": "ipython3",
   "version": "3.6.4"
  }
 },
 "nbformat": 4,
 "nbformat_minor": 2
}
