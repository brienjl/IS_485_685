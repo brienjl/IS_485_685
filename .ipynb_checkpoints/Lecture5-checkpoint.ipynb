{
 "cells": [
  {
   "cell_type": "markdown",
   "metadata": {},
   "source": [
    "# Lecture 10/03/18\n",
    "Python Data Science Toolbox II"
   ]
  },
  {
   "cell_type": "markdown",
   "metadata": {},
   "source": [
    "### Iterators & Iterables"
   ]
  },
  {
   "cell_type": "code",
   "execution_count": 46,
   "metadata": {},
   "outputs": [
    {
     "name": "stdout",
     "output_type": "stream",
     "text": [
      "1\n",
      "2\n",
      "3\n",
      "10\n",
      "11\n",
      "12\n",
      "13\n",
      "14\n",
      "15\n",
      "16\n",
      "17\n",
      "18\n",
      "19\n",
      "20\n"
     ]
    }
   ],
   "source": [
    "# A list is an ITERABLE (allows you to iterate on it)\n",
    "for i in [1,2,3]:\n",
    "    print(i)\n",
    "    \n",
    "for i in range(10,21):\n",
    "    print(i)"
   ]
  },
  {
   "cell_type": "code",
   "execution_count": 4,
   "metadata": {},
   "outputs": [
    {
     "name": "stdout",
     "output_type": "stream",
     "text": [
      "<range_iterator object at 0x104606360>\n",
      "10\n",
      "11\n"
     ]
    }
   ],
   "source": [
    "# Example of ITERATOR, you must step through an iterator with the next() function.\n",
    "values = iter(range(10,21))\n",
    "print(values)\n",
    "\n",
    "print(next(values))\n",
    "print(next(values))"
   ]
  },
  {
   "cell_type": "markdown",
   "metadata": {},
   "source": [
    "### Useful Functions, enumerate() & zip()"
   ]
  },
  {
   "cell_type": "code",
   "execution_count": 5,
   "metadata": {},
   "outputs": [
    {
     "name": "stdout",
     "output_type": "stream",
     "text": [
      "0 10\n",
      "1 45\n",
      "2 96\n",
      "3 108\n"
     ]
    }
   ],
   "source": [
    "# Useful functions, enumerate().\n",
    "\n",
    "some_list = [10, 45, 96, 108]\n",
    "\n",
    "for index, value in enumerate(some_list):\n",
    "    print(index, value)"
   ]
  },
  {
   "cell_type": "code",
   "execution_count": 6,
   "metadata": {},
   "outputs": [
    {
     "name": "stdout",
     "output_type": "stream",
     "text": [
      "50 10\n",
      "51 45\n",
      "52 96\n",
      "53 108\n"
     ]
    }
   ],
   "source": [
    "# Can start your index at any number\n",
    "\n",
    "some_list = [10, 45, 96, 108]\n",
    "\n",
    "for index, value in enumerate(some_list, start = 50):\n",
    "    print(index, value)"
   ]
  },
  {
   "cell_type": "markdown",
   "metadata": {},
   "source": [
    "### Zip Function"
   ]
  },
  {
   "cell_type": "code",
   "execution_count": 50,
   "metadata": {},
   "outputs": [
    {
     "name": "stdout",
     "output_type": "stream",
     "text": [
      "<zip object at 0x106b622c8>\n",
      "[('kevin', 'kurek'), ('brett', 'farve'), ('taco', 'salad'), ('john', 'smith')]\n"
     ]
    }
   ],
   "source": [
    "first_names = ['kevin', 'brett', 'taco','john']\n",
    "last_names = ['kurek', 'farve', 'salad','smith']\n",
    "\n",
    "together = zip(first_names, last_names)\n",
    "print(together)\n",
    "\n",
    "# In order to print you need to convert to a list\n",
    "list_together = list(together)\n",
    "print(list_together) # This prints a LIST of TUPLES."
   ]
  },
  {
   "cell_type": "code",
   "execution_count": 52,
   "metadata": {},
   "outputs": [
    {
     "name": "stdout",
     "output_type": "stream",
     "text": [
      "kevin kurek\n",
      "brett farve\n",
      "taco salad\n",
      "john smith\n"
     ]
    }
   ],
   "source": [
    "# In order to unpack and print a zip object you can do...\n",
    "\n",
    "for first, last in zip(first_names, last_names):\n",
    "    print(first, last)"
   ]
  },
  {
   "cell_type": "code",
   "execution_count": 17,
   "metadata": {},
   "outputs": [
    {
     "name": "stdout",
     "output_type": "stream",
     "text": [
      "('kevin', 'kurek') ('brett', 'farve') ('taco', 'salad')\n"
     ]
    }
   ],
   "source": [
    "# Using the \"Splat\" operator, * , to print an iterator\n",
    "first_names = ['kevin', 'brett', 'taco']\n",
    "last_names = ['kurek', 'farve', 'salad']\n",
    "\n",
    "together = zip(first_names,last_names)\n",
    "print(*together)"
   ]
  },
  {
   "cell_type": "markdown",
   "metadata": {},
   "source": [
    "## Useful Reason to use Iterators\n",
    "Read in a CSV that's too large to fit into memory to compute a task"
   ]
  },
  {
   "cell_type": "markdown",
   "metadata": {},
   "source": [
    "#### Lets say I wanted to find out how much money was given in total across all the loans, BUT I can't fit my dataframe into my local memory because the file is too big."
   ]
  },
  {
   "cell_type": "code",
   "execution_count": 61,
   "metadata": {},
   "outputs": [
    {
     "data": {
      "text/plain": [
       "1995921"
      ]
     },
     "execution_count": 61,
     "metadata": {},
     "output_type": "execute_result"
    }
   ],
   "source": [
    "import pandas as pd\n",
    "\n",
    "result = []\n",
    "\n",
    "for chunk in pd.read_csv('/Users/kevin/Dropbox/Github/Classes/IS_485_685/sliced_training.csv', chunksize = 1000):\n",
    "    result.append(sum(chunk[' Amount']))\n",
    "    \n",
    "sum(result)"
   ]
  },
  {
   "cell_type": "markdown",
   "metadata": {},
   "source": [
    "## List Comprehensions\n",
    "For Loops are inefficient, list comprehensions are faster. Why? Because the Python Interpreter knows what a list comprehension looks like and when it spots it in the code, it understands what is going to be happening; therefore, it can process the task quicker."
   ]
  },
  {
   "cell_type": "code",
   "execution_count": 64,
   "metadata": {},
   "outputs": [
    {
     "data": {
      "text/plain": [
       "[15, 20, 31, 61]"
      ]
     },
     "execution_count": 64,
     "metadata": {},
     "output_type": "execute_result"
    }
   ],
   "source": [
    "# Example\n",
    "nums = [5, 10, 21, 51]\n",
    "\n",
    "new_nums = [num + 10 for num in nums]\n",
    "new_nums"
   ]
  },
  {
   "cell_type": "markdown",
   "metadata": {},
   "source": [
    "#### Timing a Standard For Loop"
   ]
  },
  {
   "cell_type": "code",
   "execution_count": 53,
   "metadata": {},
   "outputs": [
    {
     "name": "stdout",
     "output_type": "stream",
     "text": [
      "The slowest run took 4.85 times longer than the fastest. This could mean that an intermediate result is being cached.\n",
      "1000000 loops, best of 3: 389 ns per loop\n"
     ]
    }
   ],
   "source": [
    "%%timeit\n",
    "\n",
    "nums = [5, 10, 21, 51]\n",
    "\n",
    "empty_list = []\n",
    "\n",
    "for num in nums:\n",
    "    empty_list.append(num + 5)\n",
    "\n",
    "empty_list"
   ]
  },
  {
   "cell_type": "code",
   "execution_count": 28,
   "metadata": {},
   "outputs": [
    {
     "name": "stdout",
     "output_type": "stream",
     "text": [
      "The slowest run took 6.39 times longer than the fastest. This could mean that an intermediate result is being cached.\n",
      "1000000 loops, best of 3: 344 ns per loop\n"
     ]
    }
   ],
   "source": [
    "%%timeit\n",
    "\n",
    "nums = [5, 10, 21, 51]\n",
    "new_nums = [num + 5 for num in nums]\n",
    "new_nums"
   ]
  },
  {
   "cell_type": "markdown",
   "metadata": {},
   "source": [
    "### Bring your attention above to the \"best of 3\" and notice that the list comprehension is faster"
   ]
  },
  {
   "cell_type": "markdown",
   "metadata": {},
   "source": [
    "### Nested List Comprehensions\n",
    "* Benefits: single line of code gives result.\n",
    "* Cons: Sacrifice readility for others and yourself."
   ]
  },
  {
   "cell_type": "markdown",
   "metadata": {},
   "source": [
    "#### Objective: print a list of tuples over two different ranges."
   ]
  },
  {
   "cell_type": "code",
   "execution_count": 56,
   "metadata": {},
   "outputs": [
    {
     "data": {
      "text/plain": [
       "[(0, 6), (0, 7), (1, 6), (1, 7)]"
      ]
     },
     "execution_count": 56,
     "metadata": {},
     "output_type": "execute_result"
    }
   ],
   "source": [
    "# Standard Way\n",
    "\n",
    "result = []\n",
    "\n",
    "for num1 in range(0,2):\n",
    "    for num2 in range(6,8):\n",
    "        result.append((num1,num2))\n",
    "        \n",
    "result"
   ]
  },
  {
   "cell_type": "code",
   "execution_count": 35,
   "metadata": {},
   "outputs": [
    {
     "data": {
      "text/plain": [
       "[(0, 6), (0, 7), (1, 6), (1, 7)]"
      ]
     },
     "execution_count": 35,
     "metadata": {},
     "output_type": "execute_result"
    }
   ],
   "source": [
    "# List Comprehension\n",
    "\n",
    "result = [(num1, num2) for num1 in range(0,2) for num2 in range(6,8)]\n",
    "result"
   ]
  },
  {
   "cell_type": "markdown",
   "metadata": {},
   "source": [
    "### Advanced Comprehensions\n",
    "Using conditionals within conventional list comprehensions"
   ]
  },
  {
   "cell_type": "code",
   "execution_count": 57,
   "metadata": {},
   "outputs": [
    {
     "ename": "SyntaxError",
     "evalue": "invalid syntax (<ipython-input-57-bfc90dae7b25>, line 2)",
     "output_type": "error",
     "traceback": [
      "\u001b[0;36m  File \u001b[0;32m\"<ipython-input-57-bfc90dae7b25>\"\u001b[0;36m, line \u001b[0;32m2\u001b[0m\n\u001b[0;31m    result = [num**3 for num in range(10) if num % 2 == 0 else 0]\u001b[0m\n\u001b[0m                                                             ^\u001b[0m\n\u001b[0;31mSyntaxError\u001b[0m\u001b[0;31m:\u001b[0m invalid syntax\n"
     ]
    }
   ],
   "source": [
    "# Example, print the cube of a number in the range 0-10 if the number is divisible by 2\n",
    "result = [num**3 for num in range(10) if num % 2 == 0]\n",
    "result"
   ]
  },
  {
   "cell_type": "code",
   "execution_count": 39,
   "metadata": {},
   "outputs": [
    {
     "data": {
      "text/plain": [
       "[0, 0, 4, 0, 16, 0, 36, 0, 64, 0]"
      ]
     },
     "execution_count": 39,
     "metadata": {},
     "output_type": "execute_result"
    }
   ],
   "source": [
    "# Example, for numbers from 0-10, square them, but only print them to the list if they're divisible by 2,\n",
    "# otherwise make them 0.\n",
    "result = [num**2 if num % 2 == 0 else 0 for num in range(10)]\n",
    "result"
   ]
  },
  {
   "cell_type": "markdown",
   "metadata": {},
   "source": [
    "### Dict Comprehensions\n",
    "Also identical to list comps except small syntax difference"
   ]
  },
  {
   "cell_type": "code",
   "execution_count": 40,
   "metadata": {},
   "outputs": [
    {
     "data": {
      "text/plain": [
       "{0: 2, 1: 3, 2: 4, 3: 5, 4: 6}"
      ]
     },
     "execution_count": 40,
     "metadata": {},
     "output_type": "execute_result"
    }
   ],
   "source": [
    "# Example\n",
    "result = {num: num+2 for num in range(5)}\n",
    "result"
   ]
  },
  {
   "cell_type": "markdown",
   "metadata": {},
   "source": [
    "## Generators\n",
    "Just like an iterator in which you must step through each value.\n",
    "Benefits over list comprehensions: Doesn't hold whatever you're trying to evaluate in memory until you ask it to."
   ]
  },
  {
   "cell_type": "code",
   "execution_count": 58,
   "metadata": {},
   "outputs": [
    {
     "name": "stdout",
     "output_type": "stream",
     "text": [
      "<generator object <genexpr> at 0x106b4e2b0>\n",
      "0\n",
      "2\n",
      "4\n",
      "6\n",
      "8\n"
     ]
    }
   ],
   "source": [
    "even_nums = (num for num in range(10) if num % 2 == 0)\n",
    "print(even_nums)\n",
    "print(next(even_nums))\n",
    "print(next(even_nums))\n",
    "\n",
    "for i in even_nums:\n",
    "    print(i)"
   ]
  },
  {
   "cell_type": "code",
   "execution_count": null,
   "metadata": {
    "collapsed": true
   },
   "outputs": [],
   "source": []
  }
 ],
 "metadata": {
  "kernelspec": {
   "display_name": "Python 3",
   "language": "python",
   "name": "python3"
  },
  "language_info": {
   "codemirror_mode": {
    "name": "ipython",
    "version": 3
   },
   "file_extension": ".py",
   "mimetype": "text/x-python",
   "name": "python",
   "nbconvert_exporter": "python",
   "pygments_lexer": "ipython3",
   "version": "3.6.4"
  }
 },
 "nbformat": 4,
 "nbformat_minor": 2
}
