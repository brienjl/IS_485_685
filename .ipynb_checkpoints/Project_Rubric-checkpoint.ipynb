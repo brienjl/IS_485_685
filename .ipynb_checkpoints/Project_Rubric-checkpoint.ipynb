{
 "cells": [
  {
   "cell_type": "markdown",
   "metadata": {},
   "source": [
    "# End of Semester Data Science Project Rubric"
   ]
  },
  {
   "cell_type": "markdown",
   "metadata": {},
   "source": [
    "### Core Components. All Sections are 20 points.\n",
    "* Data Collection \n",
    "* Cleaning & Exploratory Data Analysis\n",
    "* Hypothesis Test, Feature Engineering, & Model selection\n",
    "* Machine Learning model implementation\n",
    "* Conclusion & further development"
   ]
  },
  {
   "cell_type": "markdown",
   "metadata": {},
   "source": [
    "#### Data Collection\n",
    "* Collect any data that interests you. It can be open source, and does not have to be a novel idea. It can be data that has been used before, but the project must be unique in feature engineering & model selection relative to online sources. I.E. You can't do the same logisitic regression problem you found online, you have to design a new model.\n",
    "* Data needs to be big enough to be useful for Machine Learning. It doesn't have to be massive, but should contain a few thousand rows. You can use much less data but you will be restricted to models you can choose from. I.E. Deep Learning won't give anything tangible on a data set of a couple hundred rows."
   ]
  },
  {
   "cell_type": "markdown",
   "metadata": {},
   "source": [
    "#### Cleaning & Exploratory Data Analysis\n",
    "* Even if you KNOW your data is clean from an open source, I still want you to take steps to check for things like missing values, columns that imported in the wrong format (Python says integer but it's categorical), etc... This doesn't need to be a big section but is always necessary in any project. (I still check data sources I've used 20 times to check the cleanliness of the data. Remember, garbage in, garbage out.)\n",
    "* Exploratory stage. You need to define some columns or metrics you want to explore and why. I.E. You want to know the mean, median, standard deviation, etc...\n",
    "* You need to give some graphical representation of this exploration. I.E. You might be looking at how a categorical variable (Male/Female) affects Money loaned to an individual. Potentially a bee-swarm plot, histograms, etc...\n",
    "* Quick synopsis explaining what you visually see and what you plan to test moving forward."
   ]
  },
  {
   "cell_type": "markdown",
   "metadata": {},
   "source": [
    "#### Hypothesis Test, Feature Engineering, & Model selection\n",
    "* You need to test a hypothesis from above using a p-value or confidence interval. I.E. You might have visually seen that females were given more money per loan than males, but you need to tangibly test this difference using a hypothesis test to see if it's significant.\n",
    "* Now you need to engineer a feature you might be curious to see dependent on the hypothesis test. Maybe you already have the features you want for your input variables, fine, but you need to explain why you've picked these and potentially omitted others. You cannot simply use every column in your dataset and plug them all in. If you do, you need to justify using all of them, potentially stating that each column is unique from one another and there is no multi-collinearity (Columns are almost identical).\n",
    "* Write a synopsis based off your explanation explaining the model you wish to develop; linear regression, logistic regression, decision tree, random forest, etc... give some sort of backing as to why you chose this model."
   ]
  },
  {
   "cell_type": "markdown",
   "metadata": {},
   "source": [
    "#### Machine Learning model implementation\n",
    "* Implement your model. Make sure you've split your data into a training and test data sets. Perform Cross-Validation during the test phase.\n",
    "* Talk about parameters & hyperparameters in your model that you have adjusted. I.E. You were overfitting your model in training and so you added a regularization term, or you implemented a decision tree and chopped how deep your tree could be, etc... \n",
    "* Determine the metrics you plan to look at. Yes, accuracy might be one, but that shouldn't be the only thing you consider. You might want to look at the area under your ROC curve for model evaluation and parameter tuning, or you might really care about false negatives if you're looking at determining if someone will get cancer or not.\n",
    "* Write a synopsis explaining what happened in your model, and the short-comings of it (you definitely have some). Consider future models you would have liked to design, why they might work better, or why you feel this is a promising start and could be useful if you had more time."
   ]
  },
  {
   "cell_type": "markdown",
   "metadata": {},
   "source": [
    "#### Conclusion and further development\n",
    "* Talk about your project as whole, was it what you expected, did your results show any promise, or would you trash this project and start new (this happens often).\n",
    "* Talk about real life considerations. Would this model be worth developing in a business setting. Consider things like time and money. For example, if a current logistic regression was giving a 78% accuracy metric, is it really worth getting 80% accuracy by spending countless more hours designing a neural network.\n",
    "* Most importantly, consider the business and business problem when answering the above questions. For myself, if I'm designing an ML model to trade in financial market, is this good enough to put money on it, would you stake part of your income and retirement plan on it?\n",
    "* Talk about any lasting impressions this project gave you, or things you found out that you didn't know before (this should happen)."
   ]
  }
 ],
 "metadata": {
  "kernelspec": {
   "display_name": "Python 3",
   "language": "python",
   "name": "python3"
  },
  "language_info": {
   "codemirror_mode": {
    "name": "ipython",
    "version": 3
   },
   "file_extension": ".py",
   "mimetype": "text/x-python",
   "name": "python",
   "nbconvert_exporter": "python",
   "pygments_lexer": "ipython3",
   "version": "3.6.4"
  }
 },
 "nbformat": 4,
 "nbformat_minor": 2
}
