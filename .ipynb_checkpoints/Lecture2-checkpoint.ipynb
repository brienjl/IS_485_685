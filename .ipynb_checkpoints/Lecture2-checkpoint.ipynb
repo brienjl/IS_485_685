{
 "cells": [
  {
   "cell_type": "markdown",
   "metadata": {},
   "source": [
    "# Lecture 9/12/18\n",
    "Examples from Class. Please feel free to copy and mess with the code."
   ]
  },
  {
   "cell_type": "code",
   "execution_count": 1,
   "metadata": {},
   "outputs": [
    {
     "data": {
      "text/html": [
       "<div>\n",
       "<style scoped>\n",
       "    .dataframe tbody tr th:only-of-type {\n",
       "        vertical-align: middle;\n",
       "    }\n",
       "\n",
       "    .dataframe tbody tr th {\n",
       "        vertical-align: top;\n",
       "    }\n",
       "\n",
       "    .dataframe thead th {\n",
       "        text-align: right;\n",
       "    }\n",
       "</style>\n",
       "<table border=\"1\" class=\"dataframe\">\n",
       "  <thead>\n",
       "    <tr style=\"text-align: right;\">\n",
       "      <th></th>\n",
       "      <th>Index</th>\n",
       "      <th>Account Balance</th>\n",
       "      <th>Duration of Credit (month)</th>\n",
       "      <th>Payment Status of Previous Credit</th>\n",
       "      <th>Purpose</th>\n",
       "      <th>Amount</th>\n",
       "      <th>Value Savings/Stocks</th>\n",
       "      <th>Length of current employment</th>\n",
       "      <th>Instalment per cent</th>\n",
       "      <th>Sex &amp; Marital Status</th>\n",
       "      <th>...</th>\n",
       "      <th>Duration in Current address</th>\n",
       "      <th>Most valuable available asset</th>\n",
       "      <th>Age (years)</th>\n",
       "      <th>Concurrent Credits</th>\n",
       "      <th>Type of apartment</th>\n",
       "      <th>No of Credits at this Bank</th>\n",
       "      <th>Occupation</th>\n",
       "      <th>No of dependents</th>\n",
       "      <th>Telephone</th>\n",
       "      <th>Foreign Worker</th>\n",
       "    </tr>\n",
       "  </thead>\n",
       "  <tbody>\n",
       "    <tr>\n",
       "      <th>0</th>\n",
       "      <td>845</td>\n",
       "      <td>1</td>\n",
       "      <td>18</td>\n",
       "      <td>4</td>\n",
       "      <td>2</td>\n",
       "      <td>1049</td>\n",
       "      <td>1</td>\n",
       "      <td>2</td>\n",
       "      <td>4</td>\n",
       "      <td>2</td>\n",
       "      <td>...</td>\n",
       "      <td>4</td>\n",
       "      <td>2</td>\n",
       "      <td>21</td>\n",
       "      <td>3</td>\n",
       "      <td>1</td>\n",
       "      <td>1</td>\n",
       "      <td>3</td>\n",
       "      <td>1</td>\n",
       "      <td>1</td>\n",
       "      <td>1</td>\n",
       "    </tr>\n",
       "    <tr>\n",
       "      <th>1</th>\n",
       "      <td>659</td>\n",
       "      <td>1</td>\n",
       "      <td>9</td>\n",
       "      <td>4</td>\n",
       "      <td>0</td>\n",
       "      <td>2799</td>\n",
       "      <td>1</td>\n",
       "      <td>3</td>\n",
       "      <td>2</td>\n",
       "      <td>3</td>\n",
       "      <td>...</td>\n",
       "      <td>2</td>\n",
       "      <td>1</td>\n",
       "      <td>36</td>\n",
       "      <td>3</td>\n",
       "      <td>1</td>\n",
       "      <td>2</td>\n",
       "      <td>3</td>\n",
       "      <td>2</td>\n",
       "      <td>1</td>\n",
       "      <td>1</td>\n",
       "    </tr>\n",
       "    <tr>\n",
       "      <th>2</th>\n",
       "      <td>194</td>\n",
       "      <td>1</td>\n",
       "      <td>12</td>\n",
       "      <td>4</td>\n",
       "      <td>0</td>\n",
       "      <td>2122</td>\n",
       "      <td>1</td>\n",
       "      <td>3</td>\n",
       "      <td>3</td>\n",
       "      <td>3</td>\n",
       "      <td>...</td>\n",
       "      <td>2</td>\n",
       "      <td>1</td>\n",
       "      <td>39</td>\n",
       "      <td>3</td>\n",
       "      <td>1</td>\n",
       "      <td>2</td>\n",
       "      <td>2</td>\n",
       "      <td>2</td>\n",
       "      <td>1</td>\n",
       "      <td>2</td>\n",
       "    </tr>\n",
       "    <tr>\n",
       "      <th>3</th>\n",
       "      <td>213</td>\n",
       "      <td>1</td>\n",
       "      <td>12</td>\n",
       "      <td>4</td>\n",
       "      <td>0</td>\n",
       "      <td>2171</td>\n",
       "      <td>1</td>\n",
       "      <td>3</td>\n",
       "      <td>4</td>\n",
       "      <td>3</td>\n",
       "      <td>...</td>\n",
       "      <td>4</td>\n",
       "      <td>2</td>\n",
       "      <td>38</td>\n",
       "      <td>1</td>\n",
       "      <td>2</td>\n",
       "      <td>2</td>\n",
       "      <td>2</td>\n",
       "      <td>1</td>\n",
       "      <td>1</td>\n",
       "      <td>2</td>\n",
       "    </tr>\n",
       "    <tr>\n",
       "      <th>4</th>\n",
       "      <td>625</td>\n",
       "      <td>1</td>\n",
       "      <td>10</td>\n",
       "      <td>4</td>\n",
       "      <td>0</td>\n",
       "      <td>2241</td>\n",
       "      <td>1</td>\n",
       "      <td>2</td>\n",
       "      <td>1</td>\n",
       "      <td>3</td>\n",
       "      <td>...</td>\n",
       "      <td>3</td>\n",
       "      <td>1</td>\n",
       "      <td>48</td>\n",
       "      <td>3</td>\n",
       "      <td>1</td>\n",
       "      <td>2</td>\n",
       "      <td>2</td>\n",
       "      <td>2</td>\n",
       "      <td>1</td>\n",
       "      <td>2</td>\n",
       "    </tr>\n",
       "  </tbody>\n",
       "</table>\n",
       "<p>5 rows × 21 columns</p>\n",
       "</div>"
      ],
      "text/plain": [
       "   Index  Account Balance  Duration of Credit (month)  \\\n",
       "0    845                1                          18   \n",
       "1    659                1                           9   \n",
       "2    194                1                          12   \n",
       "3    213                1                          12   \n",
       "4    625                1                          10   \n",
       "\n",
       "   Payment Status of Previous Credit  Purpose   Amount  Value Savings/Stocks  \\\n",
       "0                                  4        2     1049                     1   \n",
       "1                                  4        0     2799                     1   \n",
       "2                                  4        0     2122                     1   \n",
       "3                                  4        0     2171                     1   \n",
       "4                                  4        0     2241                     1   \n",
       "\n",
       "   Length of current employment  Instalment per cent  Sex & Marital Status  \\\n",
       "0                             2                    4                     2   \n",
       "1                             3                    2                     3   \n",
       "2                             3                    3                     3   \n",
       "3                             3                    4                     3   \n",
       "4                             2                    1                     3   \n",
       "\n",
       "        ...        Duration in Current address  Most valuable available asset  \\\n",
       "0       ...                                  4                              2   \n",
       "1       ...                                  2                              1   \n",
       "2       ...                                  2                              1   \n",
       "3       ...                                  4                              2   \n",
       "4       ...                                  3                              1   \n",
       "\n",
       "   Age (years)  Concurrent Credits  Type of apartment  \\\n",
       "0           21                   3                  1   \n",
       "1           36                   3                  1   \n",
       "2           39                   3                  1   \n",
       "3           38                   1                  2   \n",
       "4           48                   3                  1   \n",
       "\n",
       "   No of Credits at this Bank  Occupation  No of dependents  Telephone  \\\n",
       "0                           1           3                 1          1   \n",
       "1                           2           3                 2          1   \n",
       "2                           2           2                 2          1   \n",
       "3                           2           2                 1          1   \n",
       "4                           2           2                 2          1   \n",
       "\n",
       "   Foreign Worker  \n",
       "0               1  \n",
       "1               1  \n",
       "2               2  \n",
       "3               2  \n",
       "4               2  \n",
       "\n",
       "[5 rows x 21 columns]"
      ]
     },
     "execution_count": 1,
     "metadata": {},
     "output_type": "execute_result"
    }
   ],
   "source": [
    "import matplotlib.pyplot as plt\n",
    "import pandas as pd\n",
    "\n",
    "df = pd.read_csv('/Users/kevin/Dropbox/Github/Classes/IS_485_685/sliced_training.csv')\n",
    "df.drop(['Unnamed: 0'], axis=1, inplace=True) # Drops Extra 'Unnamed'Column\n",
    "df.head()"
   ]
  },
  {
   "cell_type": "markdown",
   "metadata": {},
   "source": [
    "# How to convert Python dataframe to R Dataframe just for fun.\n",
    "1. In your bash command install \"conda install rpy2\"\n",
    "2. Run The cell below (only needs to be ran once)\n",
    "3. Use the template %%R -i df to convert to an R dataframe"
   ]
  },
  {
   "cell_type": "code",
   "execution_count": 2,
   "metadata": {
    "collapsed": true
   },
   "outputs": [],
   "source": [
    "%load_ext rpy2.ipython"
   ]
  },
  {
   "cell_type": "code",
   "execution_count": 3,
   "metadata": {},
   "outputs": [
    {
     "data": {
      "text/plain": [
       "  [1]  2  0  0  0  0  0  0  3  3  0  1  3 10  3  3  0  3  3  0  0  0  5  4  0  3\n",
       " [26]  3  0  1  3  0  0  3  0  0  3  1  1 10  0  9  6  0  9  6  0  9  3  0  3  1\n",
       " [51]  3  3  3  0  0  1  3  0  0  3  3  3  3  0  2  3  3  3  2  1  0  0  3  0  3\n",
       " [76]  0  1  2  0  1  3  0  0  3  9  3  2  2  3  9  2  9  2  9  0  3  0  9  3  3\n",
       "[101]  6  0  0  2  0  2  1  2  3  1  3  3  3  3  2  0  3  2  2  2  3  0  2  0  0\n",
       "[126]  3  3  6  3  2  3  1  1  2  9  3  3  1  0  3  3  3  3  9  2  3  9  2  2  0\n",
       "[151]  3  9  2  3  3  0  3  3  3  3  9  1  9  3  4  0  9  3  9  9  0  3  6  0  3\n",
       "[176]  6  0  0  3  1  0  2  3  9  3  1  3  2  0  9  3  3  0  3  0  2  2  0  0  0\n",
       "[201]  1  0  0  3  3  1  1  2  3  0  9  9  3  1  1  3  2  3  1  3  0  9  3  1  3\n",
       "[226]  2  5  1  0  5  3  1  9  2  2  3  9  2  0  2  2  3  3  3  2  3  1  2  2  1\n",
       "[251]  8  3  9  3  3  2  1  0  3  3  0  3  6  2  3  9  1  2  9  3  3  2  3  0  2\n",
       "[276]  3  1  1  0  1  9  3  3  0  0  3  9  2  0  0  0  0  0  3  6  3  3  0  2  5\n",
       "[301]  0  1  1  3  1  1  0  3  0  2  0  9  0  3  1  1  0  0  0  0  2  2  2  3  2\n",
       "[326]  3  8  0  2  9  3  1  2  3  5  1  5  3  2  2  0  2  0  4  1  1  0  6  3  2\n",
       "[351]  3  3  1  0  9  9  1  3  3 10  1  9  9  3  3  9  9  3  3  1  3  2  0  0  0\n",
       "[376]  3  6  6  6  0  3  5  9  9  9  6  9  9  2  9  2  3  2  1  2  0  6  0  3 10\n",
       "[401]  9  2  1  1  2  1  0  0  2  1  0  3  6  2  9  2  3  2  3  6  5  5  2  9  2\n",
       "[426]  2  9  2  2  9  0  3  2  9  3  1  3  3  1  3  0  0  3  5  1  3  3  1  2  0\n",
       "[451]  0  6  0  2  0  3  9  6  3  2  2  2  3  1  3  3  3  3  3  1  3  3  3  3  0\n",
       "[476]  0  2  3  3  2  2  3  3  3  0  2  0  6  0  2  9  0  2  1  9  0  1  0  3  9\n",
       "[501]  3  9  2  3  0  6  1  2  1  9  2  2  3  3  2  3  2  1  0  2  3  2  2 10  2\n",
       "[526]  0  2  2  3  2  1  2  0  2  2  2  1  2  2  2  2  1  0  1  0  2  1 10  1  2\n",
       "[551]  1  2  0  3  8  2  2  2  2  2  0  2  2  9  2  1  2  9  1  1  6 10  3  3  9\n",
       "[576]  9  2  3  9  9  3  3  3  3  3  3  3  3  3  3  3  0  3  3  3  3  3  1  3  3\n",
       "[601]  2  2  4  2  3  3  0  1  2  3  0  3  1\n"
      ]
     },
     "metadata": {},
     "output_type": "display_data"
    }
   ],
   "source": [
    "%%R -i df\n",
    "\n",
    "# Pull a column from the R Dataframe for example\n",
    "df$Purpose"
   ]
  },
  {
   "cell_type": "markdown",
   "metadata": {},
   "source": [
    "### Conditionals"
   ]
  },
  {
   "cell_type": "code",
   "execution_count": 4,
   "metadata": {},
   "outputs": [
    {
     "name": "stdout",
     "output_type": "stream",
     "text": [
      "Bigger than 700\n",
      "Bigger than 800\n"
     ]
    }
   ],
   "source": [
    "if df['Index'][0] > 700:\n",
    "    print('Bigger than 700')\n",
    "if df['Index'][0] > 800:\n",
    "    print('Bigger than 800')"
   ]
  },
  {
   "cell_type": "markdown",
   "metadata": {},
   "source": [
    "### Notice the difference between using just \"if's\" and using an elif.\n",
    "Using elif will process your code faster because there's less conditions for the computer to check."
   ]
  },
  {
   "cell_type": "code",
   "execution_count": 5,
   "metadata": {},
   "outputs": [
    {
     "name": "stdout",
     "output_type": "stream",
     "text": [
      "No condition met.\n"
     ]
    }
   ],
   "source": [
    "if df['Index'][0] > 900:\n",
    "    print('Bigger than 700')\n",
    "elif df['Index'][0] > 1000:\n",
    "    print('Bigger than 800')\n",
    "else:\n",
    "    print('No condition met.')"
   ]
  },
  {
   "cell_type": "markdown",
   "metadata": {},
   "source": [
    "### For Loop"
   ]
  },
  {
   "cell_type": "code",
   "execution_count": 6,
   "metadata": {},
   "outputs": [],
   "source": [
    "# Print every element in index column\n",
    "for value in df['Index']:\n",
    "    print(value)"
   ]
  },
  {
   "cell_type": "markdown",
   "metadata": {},
   "source": [
    "### For loop with nested IF conditional"
   ]
  },
  {
   "cell_type": "code",
   "execution_count": 7,
   "metadata": {},
   "outputs": [],
   "source": [
    "# Print every element in index column if it's bigger than 800\n",
    "for i in df['Index']:\n",
    "    if i > 800:\n",
    "        print(i)"
   ]
  },
  {
   "cell_type": "markdown",
   "metadata": {},
   "source": [
    "### Loop a Dataframe"
   ]
  },
  {
   "cell_type": "code",
   "execution_count": 8,
   "metadata": {},
   "outputs": [
    {
     "name": "stdout",
     "output_type": "stream",
     "text": [
      "3\n",
      "Index              213\n",
      "Account Balance      1\n",
      "Name: 3, dtype: int64\n",
      "4\n",
      "Index              625\n",
      "Account Balance      1\n",
      "Name: 4, dtype: int64\n"
     ]
    }
   ],
   "source": [
    "for index, row in df.head().iterrows():\n",
    "    if index > 2:\n",
    "        print(index) # prints the index of the row\n",
    "        print(row[0:2])  # prints the FIRST TWO columns of the row"
   ]
  },
  {
   "cell_type": "markdown",
   "metadata": {},
   "source": [
    "### While Loop\n",
    "Caution: Make sure your loop can end, i.e. with an iterating value"
   ]
  },
  {
   "cell_type": "code",
   "execution_count": 9,
   "metadata": {},
   "outputs": [
    {
     "name": "stdout",
     "output_type": "stream",
     "text": [
      "0 is less than 5\n",
      "1 is less than 5\n",
      "2 is less than 5\n",
      "3 is less than 5\n",
      "4 is less than 5\n"
     ]
    }
   ],
   "source": [
    "i = 0\n",
    "while i < 5:\n",
    "    print(str(i) + \" is less than 5\")\n",
    "    i += 1 # If you don't add this it'll run forever, abbreviation for i = i + 1."
   ]
  },
  {
   "cell_type": "markdown",
   "metadata": {},
   "source": [
    "# Dice Roll Example\n",
    "This came from a question someone had on Quora and needed help coding up."
   ]
  },
  {
   "cell_type": "code",
   "execution_count": 10,
   "metadata": {},
   "outputs": [
    {
     "name": "stdout",
     "output_type": "stream",
     "text": [
      "List: [2, 5, 2, 4, 2, 2], Std of Rolls: 1.2133516482134197\n"
     ]
    }
   ],
   "source": [
    "import numpy as np\n",
    "\n",
    "\n",
    "def std_for_dice(number_of_dice_rolls): # This is me \"Defining a function\" that I named \"std_for_dice\"\n",
    "    \n",
    "    \"\"\"\n",
    "    You will often see these inside of a function, they are called doc strings.\n",
    "    It is simply to explain what the function is going to do.\n",
    "        \n",
    "    Input: Number of dice rolls\n",
    "    Output: Standard deviation of all those rolls.\n",
    "    \"\"\"\n",
    "    \n",
    "    ### Actual start of the Function\n",
    "    x = 0 # Initial value of x\n",
    "    ints_from_rolls = [] # This creates an empty list I plan to populate later in the code\n",
    "    \n",
    "    \n",
    "    while x < number_of_dice_rolls:\n",
    "        \n",
    "        k = np.random.randint(1,7) # Randomly selects a number between 1 inclusive and 7 exclusive, i.e. 1-6\n",
    "        ints_from_rolls.append(k)  # Adds random number to the empty list from above\n",
    "        x+=1 # Adds 1 to x\n",
    "        \n",
    "    std_of_all_rolls = np.std(ints_from_rolls) # Calculates the standard deviation of the entire list.\n",
    "\n",
    "    return print('List: {}, Std of Rolls: {}'.format(ints_from_rolls, std_of_all_rolls)) # prints the values pretty\n",
    "\n",
    "\n",
    "# This actually \"calls the function std_for_dice\"\n",
    "\n",
    "std_for_dice(6)"
   ]
  },
  {
   "cell_type": "markdown",
   "metadata": {},
   "source": [
    "### Same Function as above without all the fluff"
   ]
  },
  {
   "cell_type": "code",
   "execution_count": 11,
   "metadata": {},
   "outputs": [
    {
     "name": "stdout",
     "output_type": "stream",
     "text": [
      "List: [5, 3, 6, 4, 5, 5], Std of Rolls: 0.9428090415820632\n"
     ]
    }
   ],
   "source": [
    "def std_for_dice(number_of_dice_rolls):\n",
    "    \n",
    "    x = 0\n",
    "    ints_from_rolls = []\n",
    "    \n",
    "    \n",
    "    while x < number_of_dice_rolls:\n",
    "        \n",
    "        k = np.random.randint(1,7)\n",
    "        ints_from_rolls.append(k)\n",
    "        x+=1\n",
    "        \n",
    "    std_of_all_rolls = np.std(ints_from_rolls)\n",
    "\n",
    "    return print('List: {}, Std of Rolls: {}'.format(ints_from_rolls, std_of_all_rolls))\n",
    "\n",
    "std_for_dice(6)"
   ]
  },
  {
   "cell_type": "markdown",
   "metadata": {},
   "source": [
    "### Random number from a Normal Distribution\n",
    "The parameters are mean and variance, so 0 & 1 will give a standard normal distribution."
   ]
  },
  {
   "cell_type": "code",
   "execution_count": 12,
   "metadata": {},
   "outputs": [
    {
     "data": {
      "text/plain": [
       "-0.30728368617563034"
      ]
     },
     "execution_count": 12,
     "metadata": {},
     "output_type": "execute_result"
    }
   ],
   "source": [
    "x = np.random.normal(0,1)\n",
    "x"
   ]
  },
  {
   "cell_type": "markdown",
   "metadata": {},
   "source": [
    "# Using Bash Magic Commands\n",
    "Act like the jupyter cell is a bash shell after typing %%bash at the top. Nothing extra to install."
   ]
  },
  {
   "cell_type": "code",
   "execution_count": 18,
   "metadata": {},
   "outputs": [
    {
     "name": "stdout",
     "output_type": "stream",
     "text": [
      "Demo.ipynb\n",
      "Lecture_9_10_18.ipynb\n",
      "Lecture_9_12_18.ipynb\n",
      "Projects.ipynb\n",
      "README.md\n",
      "sliced_training.csv\n",
      "something.csv\n",
      "On branch master\n",
      "Your branch is up-to-date with 'origin/master'.\n",
      "Changes not staged for commit:\n",
      "  (use \"git add <file>...\" to update what will be committed)\n",
      "  (use \"git checkout -- <file>...\" to discard changes in working directory)\n",
      "\n",
      "\tmodified:   .ipynb_checkpoints/Lecture_9_12_18-checkpoint.ipynb\n",
      "\tmodified:   Lecture_9_12_18.ipynb\n",
      "\n",
      "no changes added to commit (use \"git add\" and/or \"git commit -a\")\n",
      "[master 7de7916] Pushing commit using Bash Magic Command in Jupyter\n",
      " 2 files changed, 92 insertions(+), 12 deletions(-)\n"
     ]
    },
    {
     "name": "stderr",
     "output_type": "stream",
     "text": [
      "To https://github.com/kevinkurek/IS_485_685.git\n",
      "   57d2c0c..7de7916  master -> master\n"
     ]
    }
   ],
   "source": [
    "%%bash\n",
    "\n",
    "ls\n",
    "git status\n",
    "git add --all && git commit -m \"Pushing commit using Bash Magic Command in Jupyter\"\n",
    "git push origin master"
   ]
  },
  {
   "cell_type": "code",
   "execution_count": 19,
   "metadata": {},
   "outputs": [
    {
     "name": "stdout",
     "output_type": "stream",
     "text": [
      "On branch master\n",
      "Your branch is up-to-date with 'origin/master'.\n",
      "nothing to commit, working tree clean\n"
     ]
    }
   ],
   "source": [
    "%%bash\n",
    "git status"
   ]
  },
  {
   "cell_type": "code",
   "execution_count": null,
   "metadata": {
    "collapsed": true
   },
   "outputs": [],
   "source": []
  }
 ],
 "metadata": {
  "kernelspec": {
   "display_name": "Python 3",
   "language": "python",
   "name": "python3"
  },
  "language_info": {
   "codemirror_mode": {
    "name": "ipython",
    "version": 3
   },
   "file_extension": ".py",
   "mimetype": "text/x-python",
   "name": "python",
   "nbconvert_exporter": "python",
   "pygments_lexer": "ipython3",
   "version": "3.6.4"
  }
 },
 "nbformat": 4,
 "nbformat_minor": 2
}
